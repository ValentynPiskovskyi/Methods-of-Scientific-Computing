{
 "cells": [
  {
   "cell_type": "code",
   "execution_count": 7,
   "id": "7c4b70ba",
   "metadata": {},
   "outputs": [],
   "source": [
    "import os\n",
    "import numpy as np\n",
    "import matplotlib.pyplot as plt\n",
    "\n",
    "def plot_channels(image, block_size=8, save_dir=\"plots\"):\n",
    "    os.makedirs(save_dir, exist_ok=True)\n",
    "    colors = [\"red\", \"green\", \"blue\"]\n",
    "    channel_names = [\"R\", \"G\", \"B\"]\n",
    "\n",
    "    H, W, C = image.shape\n",
    "    assert C == 3, \"Image must have 3 color channels.\"\n",
    "\n",
    "    for c in range(3):\n",
    "        channel = image[:, :, c]\n",
    "\n",
    "        # 3D bar positions\n",
    "        Y, X = np.meshgrid(np.arange(H), np.arange(W))\n",
    "        xpos = X.flatten()\n",
    "        ypos = Y.flatten()\n",
    "        zpos = np.zeros_like(xpos)\n",
    "        dx = dy = 0.5\n",
    "        dz = channel.T.flatten()  # Transpose to align axes correctly\n",
    "\n",
    "        # Plot 3D bars\n",
    "        fig = plt.figure(figsize=(12, 8))\n",
    "        ax = fig.add_subplot(111, projection='3d')\n",
    "        ax.bar3d(xpos, ypos, zpos, dx, dy, dz, shade=True, color=colors[c])\n",
    "\n",
    "        ax.view_init(elev=30, azim=-60)\n",
    "        ax.set_xlabel('Width (pixels)')\n",
    "        ax.set_ylabel('Height (pixels)')\n",
    "        ax.set_zlabel('Intensity (0-255)')\n",
    "        ax.set_title(f'{channel_names[c]} Channel Pixel Map')\n",
    "\n",
    "        # Save figure\n",
    "        file_path = os.path.join(save_dir, f\"pixel_map_{channel_names[c]}.png\")\n",
    "        plt.savefig(file_path)\n",
    "        plt.close(fig)\n",
    "        print(f\"Saved {file_path}\")"
   ]
  },
  {
   "cell_type": "code",
   "execution_count": 9,
   "id": "52dd68ef",
   "metadata": {},
   "outputs": [],
   "source": [
    "def plot_channels_grouped(image, block_size=8, save_dir=\"plots\"):\n",
    "    os.makedirs(save_dir, exist_ok=True)\n",
    "    colors = [\"red\", \"green\", \"blue\"]\n",
    "    channel_names = [\"R\", \"G\", \"B\"]\n",
    "\n",
    "    H, W, C = image.shape\n",
    "    assert C == 3, \"Image must have 3 color channels.\"\n",
    "\n",
    "    for c in range(3):\n",
    "        channel = image[:, :, c]\n",
    "\n",
    "        # Compute block-averaged values\n",
    "        h_blocks = int(np.ceil(H / block_size))\n",
    "        w_blocks = int(np.ceil(W / block_size))\n",
    "        avg_blocks = np.zeros((h_blocks, w_blocks))\n",
    "\n",
    "        for i in range(h_blocks):\n",
    "            for j in range(w_blocks):\n",
    "                block = channel[i*block_size:(i+1)*block_size,\n",
    "                                j*block_size:(j+1)*block_size]\n",
    "                avg_blocks[i, j] = np.mean(block)\n",
    "\n",
    "        # 3D bar positions\n",
    "        Y, X = np.meshgrid(np.arange(h_blocks), np.arange(w_blocks))\n",
    "        xpos = X.flatten()\n",
    "        ypos = Y.flatten()\n",
    "        zpos = np.zeros_like(xpos)\n",
    "        dx = dy = 0.8  # Slightly smaller than 1 to separate bars\n",
    "        dz = avg_blocks.T.flatten()  # Transpose for correct orientation\n",
    "\n",
    "        # Plot 3D bars\n",
    "        fig = plt.figure(figsize=(12, 8))\n",
    "        ax = fig.add_subplot(111, projection='3d')\n",
    "        ax.bar3d(xpos, ypos, zpos, dx, dy, dz, shade=True, color=colors[c])\n",
    "\n",
    "        ax.view_init(elev=30, azim=-60)\n",
    "        ax.set_xlabel('Width (blocks)')\n",
    "        ax.set_ylabel('Height (blocks)')\n",
    "        ax.set_zlabel('Average intensity (0-255)')\n",
    "        ax.set_title(f'{channel_names[c]} Channel Pixel Map (block size={block_size})')\n",
    "\n",
    "        # Save figure\n",
    "        file_path = os.path.join(save_dir, f\"pixel_map_{channel_names[c]}_blocked.png\")\n",
    "        plt.savefig(file_path)\n",
    "        plt.close(fig)\n",
    "        print(f\"Saved {file_path}\")\n",
    "\n",
    "\n"
   ]
  },
  {
   "cell_type": "code",
   "execution_count": 10,
   "id": "5f45dadd",
   "metadata": {},
   "outputs": [
    {
     "name": "stdout",
     "output_type": "stream",
     "text": [
      "Saved plots\\pixel_map_R_blocked.png\n",
      "Saved plots\\pixel_map_G_blocked.png\n",
      "Saved plots\\pixel_map_B_blocked.png\n"
     ]
    }
   ],
   "source": [
    "from PIL import Image\n",
    "\n",
    "img = np.copy(np.array(Image.open(\"C:\\\\Users\\\\LENOVO\\\\Desktop\\\\MCS_Project2\\\\Part2\\\\images\\\\RGB\\\\original.png\")))\n",
    "plot_channels_grouped(img)"
   ]
  }
 ],
 "metadata": {
  "kernelspec": {
   "display_name": "Python 3",
   "language": "python",
   "name": "python3"
  },
  "language_info": {
   "codemirror_mode": {
    "name": "ipython",
    "version": 3
   },
   "file_extension": ".py",
   "mimetype": "text/x-python",
   "name": "python",
   "nbconvert_exporter": "python",
   "pygments_lexer": "ipython3",
   "version": "3.12.7"
  }
 },
 "nbformat": 4,
 "nbformat_minor": 5
}
